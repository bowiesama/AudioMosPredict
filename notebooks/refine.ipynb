{
 "cells": [
  {
   "cell_type": "code",
   "execution_count": 17,
   "metadata": {},
   "outputs": [
    {
     "name": "stdout",
     "output_type": "stream",
     "text": [
      "217 217 217 217 217 217 217\n"
     ]
    }
   ],
   "source": [
    "import re\n",
    "import pandas as pd\n",
    "#extract audio stats\n",
    "endSystemDelay = []\n",
    "packetLoss = []\n",
    "JBnominal = []\n",
    "noiseLevel = []\n",
    "Rfactor = []\n",
    "signalLevel = []\n",
    "MOSLQ = []\n",
    "\n",
    "pattern1 = re.compile(r'endSystemDelay = ([\\.\\d]+)')\n",
    "pattern2 = re.compile(r'packetLoss = ([\\.\\d]+)')\n",
    "pattern3 = re.compile(r'JBnominal = ([\\.\\d]+)')\n",
    "pattern4 = re.compile(r'noiseLevel = (-?[\\.\\d]+)')\n",
    "pattern5 = re.compile(r'Rfactor = ([\\.\\d]+)')\n",
    "pattern6 = re.compile(r'signalLevel = (-?[\\.\\d]+)')\n",
    "pattern7 = re.compile(r'MOSLQ = ([\\.\\d]+)')\n",
    "\n",
    "file = open('/tmp/3.txt', 'r')\n",
    "while True:\n",
    "    line = file.readline()\n",
    "    if len(line) == 0:\n",
    "        break\n",
    "    p1 = re.findall(pattern1, line)\n",
    "    p2 = re.findall(pattern2, line)\n",
    "    p3 = re.findall(pattern3, line)\n",
    "    p4 = re.findall(pattern4, line)\n",
    "    p5 = re.findall(pattern5, line)\n",
    "    p6 = re.findall(pattern6, line)\n",
    "    p7 = re.findall(pattern7, line)\n",
    "   \n",
    "    for a in p1:\n",
    "        endSystemDelay.append(a)\n",
    "    for b in p2:\n",
    "        packetLoss.append(b)\n",
    "    for c in p3:\n",
    "        JBnominal.append(c)\n",
    "    for d in p4:\n",
    "        noiseLevel.append(d)\n",
    "    for e in p5:\n",
    "        Rfactor.append(e)\n",
    "    for f in p6:\n",
    "        signalLevel.append(f)\n",
    "    for g in p7:\n",
    "        MOSLQ.append(g)\n",
    "print(len(endSystemDelay),len(packetLoss),len(JBnominal),len(noiseLevel),len(Rfactor),len(signalLevel),len(MOSLQ))\n",
    "dataframe = pd.DataFrame({'endSystemDelay':endSystemDelay,'packetLoss':packetLoss,'JBnominal':JBnominal,'noiseLevel':noiseLevel,'Rfactor':Rfactor,'signalLevel':signalLevel,'MOSLQ':MOSLQ})\n",
    "dataframe.to_csv(\"/tmp/result.csv\",index=False,sep=',')\n",
    "file.close()"
   ]
  },
  {
   "cell_type": "code",
   "execution_count": 21,
   "metadata": {},
   "outputs": [
    {
     "name": "stdout",
     "output_type": "stream",
     "text": [
      ".keystone_install_lock\n",
      ".DS_Store\n",
      ".dgctl\n",
      "3.txt\n",
      "2.txt\n",
      "1.txt\n",
      "result2.csv\n",
      "result3.csv\n",
      "result1.csv\n"
     ]
    }
   ],
   "source": [
    "import os\n",
    "SaveFile_Name = r'allInOne.csv'\n",
    "#push all csv in one \n",
    "path = r\"/tmp/\"\n",
    "file_list = os.listdir(path)\n",
    "for file in file_list:\n",
    "    print(file)\n",
    "df = pd.read_csv(path + file_list[7])\n",
    "df.to_csv(path + SaveFile_Name, encoding=\"utf_8_sig\",index=False)\n",
    "\n",
    "for i in range(7,len(file_list)):\n",
    "    df = pd.read_csv(path + file_list[i])\n",
    "    df.to_csv(path + SaveFile_Name,encoding = \"utf_8_sig\", index=False, header=False, mode='a+')"
   ]
  },
  {
   "cell_type": "code",
   "execution_count": null,
   "metadata": {},
   "outputs": [],
   "source": []
  }
 ],
 "metadata": {
  "kernelspec": {
   "display_name": "Python 3",
   "language": "python",
   "name": "python3"
  },
  "language_info": {
   "codemirror_mode": {
    "name": "ipython",
    "version": 3
   },
   "file_extension": ".py",
   "mimetype": "text/x-python",
   "name": "python",
   "nbconvert_exporter": "python",
   "pygments_lexer": "ipython3",
   "version": "3.7.1"
  }
 },
 "nbformat": 4,
 "nbformat_minor": 2
}
