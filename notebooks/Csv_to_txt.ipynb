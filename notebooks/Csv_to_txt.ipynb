{
 "cells": [
  {
   "cell_type": "code",
   "execution_count": 23,
   "metadata": {},
   "outputs": [],
   "source": [
    "import csv\n",
    "csvFile = open(\"/tmp/allInOne.csv\", \"r\")\n",
    "reader = csv.reader(csvFile)\n",
    "file = open(\"/tmp/audio_stat.txt\", \"w\")\n",
    "# 建立空字典\n",
    "result = {}\n",
    "for item in reader:\n",
    "    # 忽略第一行\n",
    "    if reader.line_num == 1:\n",
    "        continue\n",
    "    for i in range(7):\n",
    "        file.write(item[i])\n",
    "        if(i == 6):\n",
    "            file.write('\\n')\n",
    "        else:\n",
    "            file.write(',')\n",
    "csvFile.close()"
   ]
  },
  {
   "cell_type": "code",
   "execution_count": null,
   "metadata": {},
   "outputs": [],
   "source": []
  }
 ],
 "metadata": {
  "kernelspec": {
   "display_name": "Python 3",
   "language": "python",
   "name": "python3"
  },
  "language_info": {
   "codemirror_mode": {
    "name": "ipython",
    "version": 3
   },
   "file_extension": ".py",
   "mimetype": "text/x-python",
   "name": "python",
   "nbconvert_exporter": "python",
   "pygments_lexer": "ipython3",
   "version": "3.7.1"
  }
 },
 "nbformat": 4,
 "nbformat_minor": 2
}
