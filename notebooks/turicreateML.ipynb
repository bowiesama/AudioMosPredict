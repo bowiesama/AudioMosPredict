{
 "cells": [
  {
   "cell_type": "code",
   "execution_count": 4,
   "metadata": {},
   "outputs": [
    {
     "data": {
      "text/html": [
       "<pre>Finished parsing file /Users/wme/git/bowchen/AudioMosPredict/Audio_Mos_Predict/AllInOne.csv</pre>"
      ],
      "text/plain": [
       "Finished parsing file /Users/wme/git/bowchen/AudioMosPredict/Audio_Mos_Predict/AllInOne.csv"
      ]
     },
     "metadata": {},
     "output_type": "display_data"
    },
    {
     "data": {
      "text/html": [
       "<pre>Parsing completed. Parsed 100 lines in 0.051294 secs.</pre>"
      ],
      "text/plain": [
       "Parsing completed. Parsed 100 lines in 0.051294 secs."
      ]
     },
     "metadata": {},
     "output_type": "display_data"
    },
    {
     "name": "stdout",
     "output_type": "stream",
     "text": [
      "------------------------------------------------------\n",
      "Inferred types from first 100 line(s) of file as \n",
      "column_type_hints=[float,int,int,int,int,int,float]\n",
      "If parsing fails due to incorrect types, you can correct\n",
      "the inferred type list above and pass it to read_csv in\n",
      "the column_type_hints argument\n",
      "------------------------------------------------------\n"
     ]
    },
    {
     "data": {
      "text/html": [
       "<pre>Finished parsing file /Users/wme/git/bowchen/AudioMosPredict/Audio_Mos_Predict/AllInOne.csv</pre>"
      ],
      "text/plain": [
       "Finished parsing file /Users/wme/git/bowchen/AudioMosPredict/Audio_Mos_Predict/AllInOne.csv"
      ]
     },
     "metadata": {},
     "output_type": "display_data"
    },
    {
     "data": {
      "text/html": [
       "<pre>Parsing completed. Parsed 6084 lines in 0.012825 secs.</pre>"
      ],
      "text/plain": [
       "Parsing completed. Parsed 6084 lines in 0.012825 secs."
      ]
     },
     "metadata": {},
     "output_type": "display_data"
    },
    {
     "name": "stdout",
     "output_type": "stream",
     "text": [
      "PROGRESS: Creating a validation set from 5 percent of training data. This may take a while.\n",
      "          You can set ``validation_set=None`` to disable validation tracking.\n",
      "\n"
     ]
    },
    {
     "data": {
      "text/html": [
       "<pre>Random forest regression:</pre>"
      ],
      "text/plain": [
       "Random forest regression:"
      ]
     },
     "metadata": {},
     "output_type": "display_data"
    },
    {
     "data": {
      "text/html": [
       "<pre>--------------------------------------------------------</pre>"
      ],
      "text/plain": [
       "--------------------------------------------------------"
      ]
     },
     "metadata": {},
     "output_type": "display_data"
    },
    {
     "data": {
      "text/html": [
       "<pre>Number of examples          : 4597</pre>"
      ],
      "text/plain": [
       "Number of examples          : 4597"
      ]
     },
     "metadata": {},
     "output_type": "display_data"
    },
    {
     "data": {
      "text/html": [
       "<pre>Number of features          : 6</pre>"
      ],
      "text/plain": [
       "Number of features          : 6"
      ]
     },
     "metadata": {},
     "output_type": "display_data"
    },
    {
     "data": {
      "text/html": [
       "<pre>Number of unpacked features : 6</pre>"
      ],
      "text/plain": [
       "Number of unpacked features : 6"
      ]
     },
     "metadata": {},
     "output_type": "display_data"
    },
    {
     "data": {
      "text/html": [
       "<pre>+-----------+--------------+--------------------+----------------------+---------------------------------+-----------------------------------+</pre>"
      ],
      "text/plain": [
       "+-----------+--------------+--------------------+----------------------+---------------------------------+-----------------------------------+"
      ]
     },
     "metadata": {},
     "output_type": "display_data"
    },
    {
     "data": {
      "text/html": [
       "<pre>| Iteration | Elapsed Time | Training Max Error | Validation Max Error | Training Root-Mean-Square Error | Validation Root-Mean-Square Error |</pre>"
      ],
      "text/plain": [
       "| Iteration | Elapsed Time | Training Max Error | Validation Max Error | Training Root-Mean-Square Error | Validation Root-Mean-Square Error |"
      ]
     },
     "metadata": {},
     "output_type": "display_data"
    },
    {
     "data": {
      "text/html": [
       "<pre>+-----------+--------------+--------------------+----------------------+---------------------------------+-----------------------------------+</pre>"
      ],
      "text/plain": [
       "+-----------+--------------+--------------------+----------------------+---------------------------------+-----------------------------------+"
      ]
     },
     "metadata": {},
     "output_type": "display_data"
    },
    {
     "data": {
      "text/html": [
       "<pre>| 1         | 0.019216     | 0.773215           | 0.511624             | 0.104299                        | 0.110091                          |</pre>"
      ],
      "text/plain": [
       "| 1         | 0.019216     | 0.773215           | 0.511624             | 0.104299                        | 0.110091                          |"
      ]
     },
     "metadata": {},
     "output_type": "display_data"
    },
    {
     "data": {
      "text/html": [
       "<pre>| 2         | 0.029487     | 0.773809           | 0.391608             | 0.103866                        | 0.106217                          |</pre>"
      ],
      "text/plain": [
       "| 2         | 0.029487     | 0.773809           | 0.391608             | 0.103866                        | 0.106217                          |"
      ]
     },
     "metadata": {},
     "output_type": "display_data"
    },
    {
     "data": {
      "text/html": [
       "<pre>| 3         | 0.037409     | 0.773637           | 0.392392             | 0.104137                        | 0.105774                          |</pre>"
      ],
      "text/plain": [
       "| 3         | 0.037409     | 0.773637           | 0.392392             | 0.104137                        | 0.105774                          |"
      ]
     },
     "metadata": {},
     "output_type": "display_data"
    },
    {
     "data": {
      "text/html": [
       "<pre>| 4         | 0.045065     | 0.773177           | 0.416650             | 0.098315                        | 0.097300                          |</pre>"
      ],
      "text/plain": [
       "| 4         | 0.045065     | 0.773177           | 0.416650             | 0.098315                        | 0.097300                          |"
      ]
     },
     "metadata": {},
     "output_type": "display_data"
    },
    {
     "data": {
      "text/html": [
       "<pre>| 5         | 0.053455     | 0.773287           | 0.403306             | 0.099008                        | 0.097572                          |</pre>"
      ],
      "text/plain": [
       "| 5         | 0.053455     | 0.773287           | 0.403306             | 0.099008                        | 0.097572                          |"
      ]
     },
     "metadata": {},
     "output_type": "display_data"
    },
    {
     "data": {
      "text/html": [
       "<pre>| 10        | 0.095099     | 0.773694           | 0.381921             | 0.100334                        | 0.099676                          |</pre>"
      ],
      "text/plain": [
       "| 10        | 0.095099     | 0.773694           | 0.381921             | 0.100334                        | 0.099676                          |"
      ]
     },
     "metadata": {},
     "output_type": "display_data"
    },
    {
     "data": {
      "text/html": [
       "<pre>| 50        | 0.368701     | 0.763206           | 0.355781             | 0.099960                        | 0.099535                          |</pre>"
      ],
      "text/plain": [
       "| 50        | 0.368701     | 0.763206           | 0.355781             | 0.099960                        | 0.099535                          |"
      ]
     },
     "metadata": {},
     "output_type": "display_data"
    },
    {
     "data": {
      "text/html": [
       "<pre>| 100       | 0.716019     | 0.763040           | 0.350631             | 0.099300                        | 0.098261                          |</pre>"
      ],
      "text/plain": [
       "| 100       | 0.716019     | 0.763040           | 0.350631             | 0.099300                        | 0.098261                          |"
      ]
     },
     "metadata": {},
     "output_type": "display_data"
    },
    {
     "data": {
      "text/html": [
       "<pre>| 500       | 3.454419     | 0.767566           | 0.350360             | 0.098738                        | 0.097309                          |</pre>"
      ],
      "text/plain": [
       "| 500       | 3.454419     | 0.767566           | 0.350360             | 0.098738                        | 0.097309                          |"
      ]
     },
     "metadata": {},
     "output_type": "display_data"
    },
    {
     "data": {
      "text/html": [
       "<pre>| 1000      | 7.321877     | 0.766098           | 0.345968             | 0.098449                        | 0.096639                          |</pre>"
      ],
      "text/plain": [
       "| 1000      | 7.321877     | 0.766098           | 0.345968             | 0.098449                        | 0.096639                          |"
      ]
     },
     "metadata": {},
     "output_type": "display_data"
    },
    {
     "data": {
      "text/html": [
       "<pre>+-----------+--------------+--------------------+----------------------+---------------------------------+-----------------------------------+</pre>"
      ],
      "text/plain": [
       "+-----------+--------------+--------------------+----------------------+---------------------------------+-----------------------------------+"
      ]
     },
     "metadata": {},
     "output_type": "display_data"
    }
   ],
   "source": [
    "import turicreate as tc\n",
    "\n",
    "# Load the data\n",
    "data =  tc.SFrame.read_csv('/Users/wme/git/bowchen/AudioMosPredict/Audio_Mos_Predict/AllInOne.csv')\n",
    "\n",
    "# Label 'p' is edible\n",
    "#data['netMosAvg'] = data['netMosAvg'] == 'p'\n",
    "\n",
    "# Make a train-test split\n",
    "train_data, test_data = data.random_split(0.8)\n",
    "\n",
    "# Create a model.\n",
    "model = tc.random_forest_regression.create(train_data, target='netMosAvg',\n",
    "                                           max_iterations=1000,\n",
    "                                           max_depth =  9)\n",
    "\n",
    "# Save predictions to an SArray\n",
    "predictions = model.predict(test_data)\n",
    "\n",
    "# Evaluate the model and save the results into a dictionary\n",
    "results = model.evaluate(test_data)\n",
    "\n",
    "# Export to Core ML\n",
    "model.export_coreml('/Users/wme/git/bowchen/AudioMosPredict/Audio_Mos_Predict/MOSReg.mlmodel')"
   ]
  },
  {
   "cell_type": "code",
   "execution_count": null,
   "metadata": {},
   "outputs": [],
   "source": []
  }
 ],
 "metadata": {
  "kernelspec": {
   "display_name": "Python 3",
   "language": "python",
   "name": "python3"
  },
  "language_info": {
   "codemirror_mode": {
    "name": "ipython",
    "version": 3
   },
   "file_extension": ".py",
   "mimetype": "text/x-python",
   "name": "python",
   "nbconvert_exporter": "python",
   "pygments_lexer": "ipython3",
   "version": "3.6.8"
  }
 },
 "nbformat": 4,
 "nbformat_minor": 2
}
