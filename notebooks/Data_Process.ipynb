{
 "cells": [
  {
   "cell_type": "code",
   "execution_count": 4,
   "metadata": {},
   "outputs": [
    {
     "name": "stdout",
     "output_type": "stream",
     "text": [
      "34536 34536 34536 34536 34536 34536 34536 34536 34536 34536 34536 34536 34536 34536 34536\n"
     ]
    }
   ],
   "source": [
    "import re\n",
    "import pandas as pd\n",
    "#extract audio stats\n",
    "burstDensity = []\n",
    "burstDuration = []\n",
    "gapDensity = []\n",
    "gapDuration = []\n",
    "discardRate = []\n",
    "endSystemDelay = []\n",
    "Gmin = []\n",
    "JBnominal = []\n",
    "lossRate = []\n",
    "signalLevel = []\n",
    "noiseLevel = []\n",
    "RERL = []\n",
    "roundTripDelay = []\n",
    "Rfactor = []\n",
    "MOSLQ = []\n",
    "pattern1 = re.compile(r'burstDensity=([\\.\\d]+)')\n",
    "pattern2 = re.compile(r'burstDuration=([\\.\\d]+)')\n",
    "pattern3 = re.compile(r'gapDensity=([\\.\\d]+)')\n",
    "pattern4 = re.compile(r'gapDuration=([\\.\\d]+)')\n",
    "pattern5 = re.compile(r'discardRate=([\\.\\d]+)')\n",
    "pattern6 = re.compile(r'endSystemDelay=([\\.\\d]+)')\n",
    "pattern7 = re.compile(r'Gmin=([\\.\\d]+)')\n",
    "pattern8 = re.compile(r'JBnominal=([\\.\\d]+)')\n",
    "pattern9 = re.compile(r'lossRate=([\\.\\d]+)')\n",
    "pattern10 = re.compile(r'signalLevel=([\\.\\d]+)')\n",
    "pattern11 = re.compile(r'noiseLevel=([\\.\\d]+)')\n",
    "pattern12 = re.compile(r'RERL=([\\.\\d]+)')\n",
    "pattern13 = re.compile(r'roundTripDelay=([\\.\\d]+)')\n",
    "pattern14 = re.compile(r'Rfactor=([\\.\\d]+)')\n",
    "pattern15 = re.compile(r'MOSLQ=([\\.\\d]+)')\n",
    "file = open('/tmp/voipMetric.txt', 'r')\n",
    "while True:\n",
    "    line = file.readline()\n",
    "    if len(line) == 0:\n",
    "        break\n",
    "    p1 = re.findall(pattern1, line)\n",
    "    p2 = re.findall(pattern2, line)\n",
    "    p3 = re.findall(pattern3, line)\n",
    "    p4 = re.findall(pattern4, line)\n",
    "    p5 = re.findall(pattern5, line)\n",
    "    p6 = re.findall(pattern6, line)\n",
    "    p7 = re.findall(pattern7, line)\n",
    "    p8 = re.findall(pattern8, line)\n",
    "    p9 = re.findall(pattern9, line)\n",
    "    p10 = re.findall(pattern10, line)\n",
    "    p11 = re.findall(pattern11, line)\n",
    "    p12 = re.findall(pattern12, line)\n",
    "    p13 = re.findall(pattern13, line)\n",
    "    p14 = re.findall(pattern14, line)\n",
    "    p15 = re.findall(pattern15, line)\n",
    "    for a in p1:\n",
    "        burstDensity.append(a)\n",
    "    for b in p2:\n",
    "        burstDuration.append(b)\n",
    "    for c in p3:\n",
    "        gapDensity.append(c)\n",
    "    for d in p4:\n",
    "        gapDuration.append(d)\n",
    "    for e in p5:\n",
    "        discardRate.append(e)\n",
    "    for f in p6:\n",
    "        endSystemDelay.append(f)\n",
    "    for g in p7:\n",
    "        Gmin.append(g)\n",
    "    for h in p8:\n",
    "        JBnominal.append(h)\n",
    "    for i in p9:\n",
    "        lossRate.append(i)\n",
    "    for j in p10:\n",
    "        signalLevel.append(j)\n",
    "    for k in p11:\n",
    "        noiseLevel.append(k)\n",
    "    for l in p12:\n",
    "        RERL.append(l)\n",
    "    for m in p13:\n",
    "        roundTripDelay.append(m)\n",
    "    for n in p14:\n",
    "        Rfactor.append(n)\n",
    "    for o in p15:\n",
    "        MOSLQ.append(o)\n",
    "print(len(burstDensity),len(burstDuration),len(gapDensity),len(gapDuration),len(discardRate),len(endSystemDelay),len(Gmin),len(JBnominal),len(lossRate),len(signalLevel),len(noiseLevel),len(RERL),len(roundTripDelay),len(Rfactor),len(MOSLQ))\n",
    "dataframe = pd.DataFrame({'burstDensity':burstDensity,'burstDuration':burstDuration,'gapDensity':gapDensity,'gapDuration':gapDuration,'discardRate':discardRate,'endSystemDelay':endSystemDelay,'Gmin':Gmin,'JBnominal':JBnominal,'lossRate':lossRate,'signalLevel':signalLevel,'noiseLevel':noiseLevel,'RERL':RERL,'roundTripDelay':roundTripDelay,'Rfactor':Rfactor,'MOSLQ':MOSLQ})\n",
    "dataframe.to_csv(\"/tmp/6.csv\",index=False,sep=',')\n",
    "file.close()\n"
   ]
  },
  {
   "cell_type": "code",
   "execution_count": 30,
   "metadata": {},
   "outputs": [
    {
     "name": "stdout",
     "output_type": "stream",
     "text": [
      "6.csv\n",
      "5.csv\n",
      "4.csv\n",
      ".DS_Store\n",
      "1.csv\n",
      "3.csv\n",
      "2.csv\n",
      "allInOne.csv\n"
     ]
    }
   ],
   "source": [
    "import os\n",
    "SaveFile_Name = r'allInOne.csv'\n",
    "#push all csv in one \n",
    "path = r\"/tmp/\"\n",
    "file_list = os.listdir(path)\n",
    "for file in file_list:\n",
    "    print(file)\n",
    "df = pd.read_csv(path + file_list[2])\n",
    "df.to_csv(path + SaveFile_Name, encoding=\"utf_8_sig\",index=False)\n",
    "\n",
    "for i in range(1,len(file_list)):\n",
    "    df = pd.read_csv(path + file_list[i])\n",
    "    df.to_csv(path + SaveFile_Name,encoding = \"utf_8_sig\", index=False, header=False, mode='a+')"
   ]
  },
  {
   "cell_type": "code",
   "execution_count": null,
   "metadata": {},
   "outputs": [],
   "source": [
    "import re\n",
    "import pandas as pd\n",
    "#extract audio stats\n",
    "audiostats = []\n",
    "pattern = re.compile(r'audiostats=([\\.\\d]+)')\n",
    "logFile = open('/path/log.txt', 'r')\n",
    "while True:\n",
    "    line = logFile.readline()\n",
    "    if len(line) == 0:\n",
    "        break\n",
    "    rex = re.findall(pattern, line)\n",
    "    for param in rex:\n",
    "        audiostats.append(param)\n",
    "dataframe = pd.DataFrame({'audiostats':audiostatste})\n",
    "dataframe.to_csv(\"/path/VoipMetrics.csv\",index=False,sep=',')\n",
    "logFile.close()\n"
   ]
  },
  {
   "cell_type": "code",
   "execution_count": null,
   "metadata": {},
   "outputs": [],
   "source": []
  },
  {
   "cell_type": "code",
   "execution_count": null,
   "metadata": {},
   "outputs": [],
   "source": []
  },
  {
   "cell_type": "code",
   "execution_count": null,
   "metadata": {},
   "outputs": [],
   "source": []
  }
 ],
 "metadata": {
  "kernelspec": {
   "display_name": "Python 3",
   "language": "python",
   "name": "python3"
  },
  "language_info": {
   "codemirror_mode": {
    "name": "ipython",
    "version": 3
   },
   "file_extension": ".py",
   "mimetype": "text/x-python",
   "name": "python",
   "nbconvert_exporter": "python",
   "pygments_lexer": "ipython3",
   "version": "3.7.3"
  }
 },
 "nbformat": 4,
 "nbformat_minor": 2
}
