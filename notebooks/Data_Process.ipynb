{
 "cells": [
  {
   "cell_type": "code",
   "execution_count": 6,
   "metadata": {},
   "outputs": [
    {
     "name": "stdout",
     "output_type": "stream",
     "text": [
      "1771 1771 1771 1771 1771 1771 1771\n"
     ]
    }
   ],
   "source": [
    "import re\n",
    "import pandas as pd\n",
    "#extract audio stats\n",
    "netMosAvg = []\n",
    "d2cLossAvg = []\n",
    "e2eJitterAvg = []\n",
    "d2cJitterAvg = []\n",
    "e2eLossAvg = []\n",
    "jitDepthAvg = []\n",
    "playSpeedAvg = []\n",
    "pattern1 = re.compile(r'netMosAvg=([\\.\\d]+)')\n",
    "pattern2 = re.compile(r'd2cLossAvg=([\\.\\d]+)')\n",
    "pattern3 = re.compile(r'e2eJitterAvg=([\\.\\d]+)')\n",
    "pattern4 = re.compile(r'd2cJitterAvg=([\\.\\d]+)')\n",
    "pattern5 = re.compile(r'e2eLossAvg=([\\.\\d]+)')\n",
    "pattern6 = re.compile(r'jitDepthAvg=([\\.\\d]+)')\n",
    "pattern7 = re.compile(r'playSpeedAvg=([\\.\\d]+)')\n",
    "file = open('/tmp/6.log', 'r')\n",
    "while True:\n",
    "    line = file.readline()\n",
    "    if len(line) == 0:\n",
    "        break\n",
    "    p1 = re.findall(pattern1, line)\n",
    "    p2 = re.findall(pattern2, line)\n",
    "    p3 = re.findall(pattern3, line)\n",
    "    p4 = re.findall(pattern4, line)\n",
    "    p5 = re.findall(pattern5, line)\n",
    "    p6 = re.findall(pattern6, line)\n",
    "    p7 = re.findall(pattern7, line)\n",
    "    for p11 in p1:\n",
    "        netMosAvg.append(p11)\n",
    "    for p22 in p2:\n",
    "        d2cLossAvg.append(p22)\n",
    "    for p33 in p3:\n",
    "        e2eJitterAvg.append(p33)\n",
    "    for p44 in p4:\n",
    "        d2cJitterAvg.append(p44)\n",
    "    for p55 in p5:\n",
    "        e2eLossAvg.append(p55)\n",
    "    for p66 in p6:\n",
    "        jitDepthAvg.append(p66)\n",
    "    for p77 in p7:\n",
    "        playSpeedAvg.append(p77)\n",
    "print(len(netMosAvg),len(d2cLossAvg),len(e2eJitterAvg),len(d2cJitterAvg),len(e2eLossAvg),len(jitDepthAvg),len(playSpeedAvg))\n",
    "dataframe = pd.DataFrame({'netMosAvg':netMosAvg,'d2cLossAvg':d2cLossAvg,'e2eJitterAvg':e2eJitterAvg,'d2cJitterAvg':d2cJitterAvg,'e2eLossAvg':e2eLossAvg,'jitDepthAvg':jitDepthAvg,'playSpeedAvg':playSpeedAvg})\n",
    "dataframe.to_csv(\"/tmp/6.csv\",index=False,sep=',')\n",
    "file.close()\n"
   ]
  },
  {
   "cell_type": "code",
   "execution_count": 30,
   "metadata": {},
   "outputs": [
    {
     "name": "stdout",
     "output_type": "stream",
     "text": [
      "6.csv\n",
      "5.csv\n",
      "4.csv\n",
      ".DS_Store\n",
      "1.csv\n",
      "3.csv\n",
      "2.csv\n",
      "allInOne.csv\n"
     ]
    }
   ],
   "source": [
    "import os\n",
    "SaveFile_Name = r'allInOne.csv'\n",
    "#push all csv in one \n",
    "path = r\"/tmp/\"\n",
    "file_list = os.listdir(path)\n",
    "for file in file_list:\n",
    "    print(file)\n",
    "df = pd.read_csv(path + file_list[2])\n",
    "df.to_csv(path + SaveFile_Name, encoding=\"utf_8_sig\",index=False)\n",
    "\n",
    "for i in range(1,len(file_list)):\n",
    "    df = pd.read_csv(path + file_list[i])\n",
    "    df.to_csv(path + SaveFile_Name,encoding = \"utf_8_sig\", index=False, header=False, mode='a+')"
   ]
  },
  {
   "cell_type": "code",
   "execution_count": null,
   "metadata": {},
   "outputs": [],
   "source": []
  },
  {
   "cell_type": "code",
   "execution_count": null,
   "metadata": {},
   "outputs": [],
   "source": []
  },
  {
   "cell_type": "code",
   "execution_count": null,
   "metadata": {},
   "outputs": [],
   "source": []
  },
  {
   "cell_type": "code",
   "execution_count": null,
   "metadata": {},
   "outputs": [],
   "source": []
  }
 ],
 "metadata": {
  "kernelspec": {
   "display_name": "Python 3",
   "language": "python",
   "name": "python3"
  },
  "language_info": {
   "codemirror_mode": {
    "name": "ipython",
    "version": 3
   },
   "file_extension": ".py",
   "mimetype": "text/x-python",
   "name": "python",
   "nbconvert_exporter": "python",
   "pygments_lexer": "ipython3",
   "version": "3.7.1"
  }
 },
 "nbformat": 4,
 "nbformat_minor": 2
}
