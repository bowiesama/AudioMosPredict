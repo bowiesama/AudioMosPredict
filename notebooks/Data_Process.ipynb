{
 "cells": [
  {
   "cell_type": "code",
   "execution_count": 3,
   "metadata": {},
   "outputs": [
    {
     "name": "stdout",
     "output_type": "stream",
     "text": [
      "27000 27000 27000 27000 27000 27000 27000 27000 27000 27000 27000 27000 27000 27000 27000\n"
     ]
    }
   ],
   "source": [
    "import re\n",
    "import pandas as pd\n",
    "#extract audio stats\n",
    "burstDensity = []\n",
    "burstDuration = []\n",
    "gapDensity = []\n",
    "gapDuration = []\n",
    "discardRate = []\n",
    "endSystemDelay = []\n",
    "Gmin = []\n",
    "JBnominal = []\n",
    "lossRate = []\n",
    "signalLevel = []\n",
    "noiseLevel = []\n",
    "RERL = []\n",
    "roundTripDelay = []\n",
    "Rfactor = []\n",
    "MOSLQ = []\n",
    "pattern1 = re.compile(r'burstDensity=([\\.\\d]+)')\n",
    "pattern2 = re.compile(r'burstDuration=([\\.\\d]+)')\n",
    "pattern3 = re.compile(r'gapDensity=([\\.\\d]+)')\n",
    "pattern4 = re.compile(r'gapDuration=([\\.\\d]+)')\n",
    "pattern5 = re.compile(r'discardRate=([\\.\\d]+)')\n",
    "pattern6 = re.compile(r'endSystemDelay=([\\.\\d]+)')\n",
    "pattern7 = re.compile(r'Gmin=([\\.\\d]+)')\n",
    "pattern8 = re.compile(r'JBnominal=([\\.\\d]+)')\n",
    "pattern9 = re.compile(r'lossRate=([\\.\\d]+)')\n",
    "pattern10 = re.compile(r'signalLevel=([\\.\\d]+)')\n",
    "pattern11 = re.compile(r'noiseLevel=([\\.\\d]+)')\n",
    "pattern12 = re.compile(r'RERL=([\\.\\d]+)')\n",
    "pattern13 = re.compile(r'roundTripDelay=([\\.\\d]+)')\n",
    "pattern14 = re.compile(r'Rfactor=([\\.\\d]+)')\n",
    "pattern15 = re.compile(r'MOSLQ=([\\.\\d]+)')\n",
    "file = open('/tmp/voipMetric.txt', 'r')\n",
    "while True:\n",
    "    line = file.readline()\n",
    "    if len(line) == 0:\n",
    "        break\n",
    "    p1 = re.findall(pattern1, line)\n",
    "    p2 = re.findall(pattern2, line)\n",
    "    p3 = re.findall(pattern3, line)\n",
    "    p4 = re.findall(pattern4, line)\n",
    "    p5 = re.findall(pattern5, line)\n",
    "    p6 = re.findall(pattern6, line)\n",
    "    p7 = re.findall(pattern7, line)\n",
    "    p8 = re.findall(pattern8, line)\n",
    "    p9 = re.findall(pattern9, line)\n",
    "    p10 = re.findall(pattern10, line)\n",
    "    p11 = re.findall(pattern11, line)\n",
    "    p12 = re.findall(pattern12, line)\n",
    "    p13 = re.findall(pattern13, line)\n",
    "    p14 = re.findall(pattern14, line)\n",
    "    p15 = re.findall(pattern15, line)\n",
    "    for a in p1:\n",
    "        burstDensity.append(a)\n",
    "    for b in p2:\n",
    "        burstDuration.append(b)\n",
    "    for c in p3:\n",
    "        gapDensity.append(c)\n",
    "    for d in p4:\n",
    "        gapDuration.append(d)\n",
    "    for e in p5:\n",
    "        discardRate.append(e)\n",
    "    for f in p6:\n",
    "        endSystemDelay.append(f)\n",
    "    for g in p7:\n",
    "        Gmin.append(g)\n",
    "    for h in p8:\n",
    "        JBnominal.append(h)\n",
    "    for i in p9:\n",
    "        lossRate.append(i)\n",
    "    for j in p10:\n",
    "        signalLevel.append(j)\n",
    "    for k in p11:\n",
    "        noiseLevel.append(k)\n",
    "    for l in p12:\n",
    "        RERL.append(l)\n",
    "    for m in p13:\n",
    "        roundTripDelay.append(m)\n",
    "    for n in p14:\n",
    "        Rfactor.append(n)\n",
    "    for o in p15:\n",
    "        MOSLQ.append(o)\n",
    "print(len(burstDensity),len(burstDuration),len(gapDensity),len(gapDuration),len(discardRate),len(endSystemDelay),len(Gmin),len(JBnominal),len(lossRate),len(signalLevel),len(noiseLevel),len(RERL),len(roundTripDelay),len(Rfactor),len(MOSLQ))\n",
    "dataframe = pd.DataFrame({'burstDensity':burstDensity,'burstDuration':burstDuration,'gapDensity':gapDensity,'gapDuration':gapDuration,'discardRate':discardRate,'endSystemDelay':endSystemDelay,'Gmin':Gmin,'JBnominal':JBnominal,'lossRate':lossRate,'signalLevel':signalLevel,'noiseLevel':noiseLevel,'RERL':RERL,'roundTripDelay':roundTripDelay,'Rfactor':Rfactor,'MOSLQ':MOSLQ})\n",
    "dataframe.to_csv(\"/tmp/6.csv\",index=False,sep=',')\n",
    "file.close()\n"
   ]
  },
  {
   "cell_type": "code",
   "execution_count": 4,
   "metadata": {},
   "outputs": [
    {
     "name": "stdout",
     "output_type": "stream",
     "text": [
      "6.csv\n",
      ".DS_Store\n",
      "com.apple.launchd.Z5ijrDSKrK\n",
      "wbxtra_05292019_215710.wbt\n",
      "voipMetrics.csv\n",
      "mediasessiontest_lock_0\n",
      "com.apple.launchd.5ZdRSB8tf2\n",
      "boost_interprocess\n",
      "com.sogou.inputmethod\n",
      "voipMetric.txt\n",
      "wbxtra_05292019_215647.wbt\n"
     ]
    },
    {
     "ename": "ParserError",
     "evalue": "Error tokenizing data. C error: Calling read(nbytes) on source failed. Try engine='python'.",
     "output_type": "error",
     "traceback": [
      "\u001b[0;31m---------------------------------------------------------------------------\u001b[0m",
      "\u001b[0;31mParserError\u001b[0m                               Traceback (most recent call last)",
      "\u001b[0;32m<ipython-input-4-dc2d9aa6080a>\u001b[0m in \u001b[0;36m<module>\u001b[0;34m\u001b[0m\n\u001b[1;32m      6\u001b[0m \u001b[0;32mfor\u001b[0m \u001b[0mfile\u001b[0m \u001b[0;32min\u001b[0m \u001b[0mfile_list\u001b[0m\u001b[0;34m:\u001b[0m\u001b[0;34m\u001b[0m\u001b[0;34m\u001b[0m\u001b[0m\n\u001b[1;32m      7\u001b[0m     \u001b[0mprint\u001b[0m\u001b[0;34m(\u001b[0m\u001b[0mfile\u001b[0m\u001b[0;34m)\u001b[0m\u001b[0;34m\u001b[0m\u001b[0;34m\u001b[0m\u001b[0m\n\u001b[0;32m----> 8\u001b[0;31m \u001b[0mdf\u001b[0m \u001b[0;34m=\u001b[0m \u001b[0mpd\u001b[0m\u001b[0;34m.\u001b[0m\u001b[0mread_csv\u001b[0m\u001b[0;34m(\u001b[0m\u001b[0mpath\u001b[0m \u001b[0;34m+\u001b[0m \u001b[0mfile_list\u001b[0m\u001b[0;34m[\u001b[0m\u001b[0;36m2\u001b[0m\u001b[0;34m]\u001b[0m\u001b[0;34m)\u001b[0m\u001b[0;34m\u001b[0m\u001b[0;34m\u001b[0m\u001b[0m\n\u001b[0m\u001b[1;32m      9\u001b[0m \u001b[0mdf\u001b[0m\u001b[0;34m.\u001b[0m\u001b[0mto_csv\u001b[0m\u001b[0;34m(\u001b[0m\u001b[0mpath\u001b[0m \u001b[0;34m+\u001b[0m \u001b[0mSaveFile_Name\u001b[0m\u001b[0;34m,\u001b[0m \u001b[0mencoding\u001b[0m\u001b[0;34m=\u001b[0m\u001b[0;34m\"utf_8_sig\"\u001b[0m\u001b[0;34m,\u001b[0m\u001b[0mindex\u001b[0m\u001b[0;34m=\u001b[0m\u001b[0;32mFalse\u001b[0m\u001b[0;34m)\u001b[0m\u001b[0;34m\u001b[0m\u001b[0;34m\u001b[0m\u001b[0m\n\u001b[1;32m     10\u001b[0m \u001b[0;34m\u001b[0m\u001b[0m\n",
      "\u001b[0;32m~/anaconda3/lib/python3.7/site-packages/pandas/io/parsers.py\u001b[0m in \u001b[0;36mparser_f\u001b[0;34m(filepath_or_buffer, sep, delimiter, header, names, index_col, usecols, squeeze, prefix, mangle_dupe_cols, dtype, engine, converters, true_values, false_values, skipinitialspace, skiprows, skipfooter, nrows, na_values, keep_default_na, na_filter, verbose, skip_blank_lines, parse_dates, infer_datetime_format, keep_date_col, date_parser, dayfirst, iterator, chunksize, compression, thousands, decimal, lineterminator, quotechar, quoting, doublequote, escapechar, comment, encoding, dialect, tupleize_cols, error_bad_lines, warn_bad_lines, delim_whitespace, low_memory, memory_map, float_precision)\u001b[0m\n\u001b[1;32m    700\u001b[0m                     skip_blank_lines=skip_blank_lines)\n\u001b[1;32m    701\u001b[0m \u001b[0;34m\u001b[0m\u001b[0m\n\u001b[0;32m--> 702\u001b[0;31m         \u001b[0;32mreturn\u001b[0m \u001b[0m_read\u001b[0m\u001b[0;34m(\u001b[0m\u001b[0mfilepath_or_buffer\u001b[0m\u001b[0;34m,\u001b[0m \u001b[0mkwds\u001b[0m\u001b[0;34m)\u001b[0m\u001b[0;34m\u001b[0m\u001b[0;34m\u001b[0m\u001b[0m\n\u001b[0m\u001b[1;32m    703\u001b[0m \u001b[0;34m\u001b[0m\u001b[0m\n\u001b[1;32m    704\u001b[0m     \u001b[0mparser_f\u001b[0m\u001b[0;34m.\u001b[0m\u001b[0m__name__\u001b[0m \u001b[0;34m=\u001b[0m \u001b[0mname\u001b[0m\u001b[0;34m\u001b[0m\u001b[0;34m\u001b[0m\u001b[0m\n",
      "\u001b[0;32m~/anaconda3/lib/python3.7/site-packages/pandas/io/parsers.py\u001b[0m in \u001b[0;36m_read\u001b[0;34m(filepath_or_buffer, kwds)\u001b[0m\n\u001b[1;32m    427\u001b[0m \u001b[0;34m\u001b[0m\u001b[0m\n\u001b[1;32m    428\u001b[0m     \u001b[0;31m# Create the parser.\u001b[0m\u001b[0;34m\u001b[0m\u001b[0;34m\u001b[0m\u001b[0;34m\u001b[0m\u001b[0m\n\u001b[0;32m--> 429\u001b[0;31m     \u001b[0mparser\u001b[0m \u001b[0;34m=\u001b[0m \u001b[0mTextFileReader\u001b[0m\u001b[0;34m(\u001b[0m\u001b[0mfilepath_or_buffer\u001b[0m\u001b[0;34m,\u001b[0m \u001b[0;34m**\u001b[0m\u001b[0mkwds\u001b[0m\u001b[0;34m)\u001b[0m\u001b[0;34m\u001b[0m\u001b[0;34m\u001b[0m\u001b[0m\n\u001b[0m\u001b[1;32m    430\u001b[0m \u001b[0;34m\u001b[0m\u001b[0m\n\u001b[1;32m    431\u001b[0m     \u001b[0;32mif\u001b[0m \u001b[0mchunksize\u001b[0m \u001b[0;32mor\u001b[0m \u001b[0miterator\u001b[0m\u001b[0;34m:\u001b[0m\u001b[0;34m\u001b[0m\u001b[0;34m\u001b[0m\u001b[0m\n",
      "\u001b[0;32m~/anaconda3/lib/python3.7/site-packages/pandas/io/parsers.py\u001b[0m in \u001b[0;36m__init__\u001b[0;34m(self, f, engine, **kwds)\u001b[0m\n\u001b[1;32m    893\u001b[0m             \u001b[0mself\u001b[0m\u001b[0;34m.\u001b[0m\u001b[0moptions\u001b[0m\u001b[0;34m[\u001b[0m\u001b[0;34m'has_index_names'\u001b[0m\u001b[0;34m]\u001b[0m \u001b[0;34m=\u001b[0m \u001b[0mkwds\u001b[0m\u001b[0;34m[\u001b[0m\u001b[0;34m'has_index_names'\u001b[0m\u001b[0;34m]\u001b[0m\u001b[0;34m\u001b[0m\u001b[0;34m\u001b[0m\u001b[0m\n\u001b[1;32m    894\u001b[0m \u001b[0;34m\u001b[0m\u001b[0m\n\u001b[0;32m--> 895\u001b[0;31m         \u001b[0mself\u001b[0m\u001b[0;34m.\u001b[0m\u001b[0m_make_engine\u001b[0m\u001b[0;34m(\u001b[0m\u001b[0mself\u001b[0m\u001b[0;34m.\u001b[0m\u001b[0mengine\u001b[0m\u001b[0;34m)\u001b[0m\u001b[0;34m\u001b[0m\u001b[0;34m\u001b[0m\u001b[0m\n\u001b[0m\u001b[1;32m    896\u001b[0m \u001b[0;34m\u001b[0m\u001b[0m\n\u001b[1;32m    897\u001b[0m     \u001b[0;32mdef\u001b[0m \u001b[0mclose\u001b[0m\u001b[0;34m(\u001b[0m\u001b[0mself\u001b[0m\u001b[0;34m)\u001b[0m\u001b[0;34m:\u001b[0m\u001b[0;34m\u001b[0m\u001b[0;34m\u001b[0m\u001b[0m\n",
      "\u001b[0;32m~/anaconda3/lib/python3.7/site-packages/pandas/io/parsers.py\u001b[0m in \u001b[0;36m_make_engine\u001b[0;34m(self, engine)\u001b[0m\n\u001b[1;32m   1120\u001b[0m     \u001b[0;32mdef\u001b[0m \u001b[0m_make_engine\u001b[0m\u001b[0;34m(\u001b[0m\u001b[0mself\u001b[0m\u001b[0;34m,\u001b[0m \u001b[0mengine\u001b[0m\u001b[0;34m=\u001b[0m\u001b[0;34m'c'\u001b[0m\u001b[0;34m)\u001b[0m\u001b[0;34m:\u001b[0m\u001b[0;34m\u001b[0m\u001b[0;34m\u001b[0m\u001b[0m\n\u001b[1;32m   1121\u001b[0m         \u001b[0;32mif\u001b[0m \u001b[0mengine\u001b[0m \u001b[0;34m==\u001b[0m \u001b[0;34m'c'\u001b[0m\u001b[0;34m:\u001b[0m\u001b[0;34m\u001b[0m\u001b[0;34m\u001b[0m\u001b[0m\n\u001b[0;32m-> 1122\u001b[0;31m             \u001b[0mself\u001b[0m\u001b[0;34m.\u001b[0m\u001b[0m_engine\u001b[0m \u001b[0;34m=\u001b[0m \u001b[0mCParserWrapper\u001b[0m\u001b[0;34m(\u001b[0m\u001b[0mself\u001b[0m\u001b[0;34m.\u001b[0m\u001b[0mf\u001b[0m\u001b[0;34m,\u001b[0m \u001b[0;34m**\u001b[0m\u001b[0mself\u001b[0m\u001b[0;34m.\u001b[0m\u001b[0moptions\u001b[0m\u001b[0;34m)\u001b[0m\u001b[0;34m\u001b[0m\u001b[0;34m\u001b[0m\u001b[0m\n\u001b[0m\u001b[1;32m   1123\u001b[0m         \u001b[0;32melse\u001b[0m\u001b[0;34m:\u001b[0m\u001b[0;34m\u001b[0m\u001b[0;34m\u001b[0m\u001b[0m\n\u001b[1;32m   1124\u001b[0m             \u001b[0;32mif\u001b[0m \u001b[0mengine\u001b[0m \u001b[0;34m==\u001b[0m \u001b[0;34m'python'\u001b[0m\u001b[0;34m:\u001b[0m\u001b[0;34m\u001b[0m\u001b[0;34m\u001b[0m\u001b[0m\n",
      "\u001b[0;32m~/anaconda3/lib/python3.7/site-packages/pandas/io/parsers.py\u001b[0m in \u001b[0;36m__init__\u001b[0;34m(self, src, **kwds)\u001b[0m\n\u001b[1;32m   1851\u001b[0m         \u001b[0mkwds\u001b[0m\u001b[0;34m[\u001b[0m\u001b[0;34m'usecols'\u001b[0m\u001b[0;34m]\u001b[0m \u001b[0;34m=\u001b[0m \u001b[0mself\u001b[0m\u001b[0;34m.\u001b[0m\u001b[0musecols\u001b[0m\u001b[0;34m\u001b[0m\u001b[0;34m\u001b[0m\u001b[0m\n\u001b[1;32m   1852\u001b[0m \u001b[0;34m\u001b[0m\u001b[0m\n\u001b[0;32m-> 1853\u001b[0;31m         \u001b[0mself\u001b[0m\u001b[0;34m.\u001b[0m\u001b[0m_reader\u001b[0m \u001b[0;34m=\u001b[0m \u001b[0mparsers\u001b[0m\u001b[0;34m.\u001b[0m\u001b[0mTextReader\u001b[0m\u001b[0;34m(\u001b[0m\u001b[0msrc\u001b[0m\u001b[0;34m,\u001b[0m \u001b[0;34m**\u001b[0m\u001b[0mkwds\u001b[0m\u001b[0;34m)\u001b[0m\u001b[0;34m\u001b[0m\u001b[0;34m\u001b[0m\u001b[0m\n\u001b[0m\u001b[1;32m   1854\u001b[0m         \u001b[0mself\u001b[0m\u001b[0;34m.\u001b[0m\u001b[0munnamed_cols\u001b[0m \u001b[0;34m=\u001b[0m \u001b[0mself\u001b[0m\u001b[0;34m.\u001b[0m\u001b[0m_reader\u001b[0m\u001b[0;34m.\u001b[0m\u001b[0munnamed_cols\u001b[0m\u001b[0;34m\u001b[0m\u001b[0;34m\u001b[0m\u001b[0m\n\u001b[1;32m   1855\u001b[0m \u001b[0;34m\u001b[0m\u001b[0m\n",
      "\u001b[0;32mpandas/_libs/parsers.pyx\u001b[0m in \u001b[0;36mpandas._libs.parsers.TextReader.__cinit__\u001b[0;34m()\u001b[0m\n",
      "\u001b[0;32mpandas/_libs/parsers.pyx\u001b[0m in \u001b[0;36mpandas._libs.parsers.TextReader._get_header\u001b[0;34m()\u001b[0m\n",
      "\u001b[0;32mpandas/_libs/parsers.pyx\u001b[0m in \u001b[0;36mpandas._libs.parsers.TextReader._tokenize_rows\u001b[0;34m()\u001b[0m\n",
      "\u001b[0;32mpandas/_libs/parsers.pyx\u001b[0m in \u001b[0;36mpandas._libs.parsers.raise_parser_error\u001b[0;34m()\u001b[0m\n",
      "\u001b[0;31mParserError\u001b[0m: Error tokenizing data. C error: Calling read(nbytes) on source failed. Try engine='python'."
     ]
    }
   ],
   "source": [
    "import os\n",
    "SaveFile_Name = r'allInOne.csv'\n",
    "#push all csv in one \n",
    "path = r\"/tmp/\"\n",
    "file_list = os.listdir(path)\n",
    "for file in file_list:\n",
    "    print(file)\n",
    "df = pd.read_csv(path + file_list[2])\n",
    "df.to_csv(path + SaveFile_Name, encoding=\"utf_8_sig\",index=False)\n",
    "\n",
    "for i in range(1,len(file_list)):\n",
    "    df = pd.read_csv(path + file_list[i])\n",
    "    df.to_csv(path + SaveFile_Name,encoding = \"utf_8_sig\", index=False, header=False, mode='a+')"
   ]
  },
  {
   "cell_type": "code",
   "execution_count": null,
   "metadata": {},
   "outputs": [],
   "source": [
    "import re\n",
    "import pandas as pd\n",
    "#extract audio stats\n",
    "audiostats = []\n",
    "pattern = re.compile(r'audiostats=([\\.\\d]+)')\n",
    "logFile = open('/path/log.txt', 'r')\n",
    "while True:\n",
    "    line = logFile.readline()\n",
    "    if len(line) == 0:\n",
    "        break\n",
    "    rex = re.findall(pattern, line)\n",
    "    for param in rex:\n",
    "        audiostats.append(param)\n",
    "dataframe = pd.DataFrame({'audiostats':audiostatste})\n",
    "dataframe.to_csv(\"/path/VoipMetrics.csv\",index=False,sep=',')\n",
    "logFile.close()\n"
   ]
  },
  {
   "cell_type": "code",
   "execution_count": 7,
   "metadata": {},
   "outputs": [
    {
     "data": {
      "text/plain": [
       "DecisionTreeRegressor(criterion='mse', max_depth=7, max_features=None,\n",
       "           max_leaf_nodes=None, min_impurity_decrease=0.0,\n",
       "           min_impurity_split=None, min_samples_leaf=1,\n",
       "           min_samples_split=50, min_weight_fraction_leaf=0.0,\n",
       "           presort=False, random_state=None, splitter='best')"
      ]
     },
     "execution_count": 7,
     "metadata": {},
     "output_type": "execute_result"
    }
   ],
   "source": [
    "from sklearn import tree\n",
    "dff = dataframe[['burstDensity', 'burstDuration', 'gapDensity', 'gapDuration', 'discardRate', 'endSystemDelay', 'Gmin', 'JBnominal', 'lossRate', 'signalLevel', 'noiseLevel', 'RERL', 'roundTripDelay', 'Rfactor', 'MOSLQ']]\n",
    "dtr = tree.DecisionTreeRegressor(max_depth = 7,min_samples_split = 50)\n",
    "dtr.fit(dff.iloc[:,:-1],dff.iloc[:,-1])"
   ]
  },
  {
   "cell_type": "code",
   "execution_count": 9,
   "metadata": {},
   "outputs": [],
   "source": [
    "dot_data = tree.export_graphviz(dtr,out_file = None, feature_names = dff.columns[:-1], filled = True, impurity = False, rounded = True)"
   ]
  },
  {
   "cell_type": "code",
   "execution_count": 14,
   "metadata": {},
   "outputs": [
    {
     "data": {
      "text/plain": [
       "True"
      ]
     },
     "execution_count": 14,
     "metadata": {},
     "output_type": "execute_result"
    }
   ],
   "source": [
    "import pydotplus\n",
    "graph = pydotplus.graph_from_dot_data(dot_data)\n",
    "graph.get_nodes()[7].set_fillcolor('#FFF2DD')\n",
    "from IPython.display import Image\n",
    "Image(graph.create_png())\n",
    "graph.write_pdf(\"/tmp/WineTree.pdf\")\n",
    "graph.write_png(\"/tmp/WineTree.png\")"
   ]
  },
  {
   "cell_type": "code",
   "execution_count": null,
   "metadata": {},
   "outputs": [],
   "source": []
  }
 ],
 "metadata": {
  "kernelspec": {
   "display_name": "Python 3",
   "language": "python",
   "name": "python3"
  },
  "language_info": {
   "codemirror_mode": {
    "name": "ipython",
    "version": 3
   },
   "file_extension": ".py",
   "mimetype": "text/x-python",
   "name": "python",
   "nbconvert_exporter": "python",
   "pygments_lexer": "ipython3",
   "version": "3.7.3"
  }
 },
 "nbformat": 4,
 "nbformat_minor": 2
}
