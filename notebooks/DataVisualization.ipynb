{
 "cells": [
  {
   "cell_type": "code",
   "execution_count": 1,
   "metadata": {},
   "outputs": [],
   "source": [
    "import csv\n",
    "import pandas as pd\n",
    "import numpy as np\n",
    "import plotly\n",
    "import plotly.plotly as py\n",
    "import plotly.graph_objs as go\n",
    "plotly.tools.set_credentials_file(username='bowie', api_key='Vn9kyCsFijJvA7noNwl7')\n",
    "audio_train_df = pd.read_csv(\"/tmp/6.csv\")"
   ]
  },
  {
   "cell_type": "code",
   "execution_count": 2,
   "metadata": {},
   "outputs": [
    {
     "name": "stdout",
     "output_type": "stream",
     "text": [
      "7\n"
     ]
    },
    {
     "data": {
      "text/html": [
       "<div>\n",
       "<style scoped>\n",
       "    .dataframe tbody tr th:only-of-type {\n",
       "        vertical-align: middle;\n",
       "    }\n",
       "\n",
       "    .dataframe tbody tr th {\n",
       "        vertical-align: top;\n",
       "    }\n",
       "\n",
       "    .dataframe thead th {\n",
       "        text-align: right;\n",
       "    }\n",
       "</style>\n",
       "<table border=\"1\" class=\"dataframe\">\n",
       "  <thead>\n",
       "    <tr style=\"text-align: right;\">\n",
       "      <th></th>\n",
       "      <th>index</th>\n",
       "      <th>Train</th>\n",
       "      <th>test</th>\n",
       "    </tr>\n",
       "  </thead>\n",
       "  <tbody>\n",
       "    <tr>\n",
       "      <th>0</th>\n",
       "      <td>0</td>\n",
       "      <td>0.8265</td>\n",
       "      <td>0.7946</td>\n",
       "    </tr>\n",
       "    <tr>\n",
       "      <th>1</th>\n",
       "      <td>1</td>\n",
       "      <td>0.1213</td>\n",
       "      <td>0.2925</td>\n",
       "    </tr>\n",
       "    <tr>\n",
       "      <th>2</th>\n",
       "      <td>2</td>\n",
       "      <td>0.1092</td>\n",
       "      <td>0.1842</td>\n",
       "    </tr>\n",
       "    <tr>\n",
       "      <th>3</th>\n",
       "      <td>3</td>\n",
       "      <td>0.0813</td>\n",
       "      <td>0.1403</td>\n",
       "    </tr>\n",
       "    <tr>\n",
       "      <th>4</th>\n",
       "      <td>4</td>\n",
       "      <td>0.0928</td>\n",
       "      <td>0.1713</td>\n",
       "    </tr>\n",
       "    <tr>\n",
       "      <th>5</th>\n",
       "      <td>5</td>\n",
       "      <td>0.0832</td>\n",
       "      <td>0.1288</td>\n",
       "    </tr>\n",
       "    <tr>\n",
       "      <th>6</th>\n",
       "      <td>6</td>\n",
       "      <td>0.0814</td>\n",
       "      <td>0.1235</td>\n",
       "    </tr>\n",
       "  </tbody>\n",
       "</table>\n",
       "</div>"
      ],
      "text/plain": [
       "   index   Train    test\n",
       "0      0  0.8265  0.7946\n",
       "1      1  0.1213  0.2925\n",
       "2      2  0.1092  0.1842\n",
       "3      3  0.0813  0.1403\n",
       "4      4  0.0928  0.1713\n",
       "5      5  0.0832  0.1288\n",
       "6      6  0.0814  0.1235"
      ]
     },
     "execution_count": 2,
     "metadata": {},
     "output_type": "execute_result"
    }
   ],
   "source": [
    "SimpleNum = audio_train_df.shape[0]\n",
    "print(SimpleNum)\n",
    "list = []\n",
    "for i in range (0,SimpleNum):\n",
    "    list.append(i)\n",
    "audio_train_df.insert(0,'index',list)\n",
    "audio_train_df.head(10)"
   ]
  },
  {
   "cell_type": "code",
   "execution_count": 3,
   "metadata": {
    "scrolled": true
   },
   "outputs": [
    {
     "name": "stderr",
     "output_type": "stream",
     "text": [
      "/Users/bowchen/anaconda3/lib/python3.7/site-packages/IPython/core/display.py:689: UserWarning:\n",
      "\n",
      "Consider using IPython.display.IFrame instead\n",
      "\n"
     ]
    },
    {
     "data": {
      "text/html": [
       "<iframe id=\"igraph\" scrolling=\"no\" style=\"border:none;\" seamless=\"seamless\" src=\"https://plot.ly/~bowie/54.embed\" height=\"525px\" width=\"100%\"></iframe>"
      ],
      "text/plain": [
       "<chart_studio.tools.PlotlyDisplay object>"
      ]
     },
     "execution_count": 3,
     "metadata": {},
     "output_type": "execute_result"
    }
   ],
   "source": [
    "audio_train_df = audio_train_df.head(10000)\n",
    "index = audio_train_df['index']\n",
    "TrainMse = audio_train_df['Train']\n",
    "TestMse = audio_train_df['test']\n",
    "trace0 = go.Scatter(\n",
    "    x = index,\n",
    "    y = TrainMse,\n",
    "    mode = 'lines+markers',\n",
    "    name = 'lines+markers'\n",
    ")\n",
    "trace1 = go.Scatter(\n",
    "    x = index,\n",
    "    y = TestMse,\n",
    "    mode = 'lines+markers',\n",
    "    name = 'lines+markers'\n",
    ")\n",
    "data0 = [trace0,trace1]\n",
    "py.iplot(data0)"
   ]
  },
  {
   "cell_type": "code",
   "execution_count": 4,
   "metadata": {},
   "outputs": [
    {
     "ename": "NameError",
     "evalue": "name 'index' is not defined",
     "output_type": "error",
     "traceback": [
      "\u001b[0;31m---------------------------------------------------------------------------\u001b[0m",
      "\u001b[0;31mNameError\u001b[0m                                 Traceback (most recent call last)",
      "\u001b[0;32m<ipython-input-4-f9c251de1a8e>\u001b[0m in \u001b[0;36m<module>\u001b[0;34m\u001b[0m\n\u001b[1;32m      1\u001b[0m trace1 = go.Bar(\n\u001b[0;32m----> 2\u001b[0;31m     \u001b[0mx\u001b[0m \u001b[0;34m=\u001b[0m \u001b[0mindex\u001b[0m\u001b[0;34m,\u001b[0m\u001b[0;34m\u001b[0m\u001b[0;34m\u001b[0m\u001b[0m\n\u001b[0m\u001b[1;32m      3\u001b[0m     \u001b[0my\u001b[0m \u001b[0;34m=\u001b[0m \u001b[0mmos\u001b[0m\u001b[0;34m,\u001b[0m\u001b[0;34m\u001b[0m\u001b[0;34m\u001b[0m\u001b[0m\n\u001b[1;32m      4\u001b[0m     \u001b[0mname\u001b[0m\u001b[0;34m=\u001b[0m\u001b[0;34m'thename'\u001b[0m\u001b[0;34m,\u001b[0m\u001b[0;34m\u001b[0m\u001b[0;34m\u001b[0m\u001b[0m\n\u001b[1;32m      5\u001b[0m     \u001b[0mwidth\u001b[0m\u001b[0;34m=\u001b[0m\u001b[0;36m0.5\u001b[0m\u001b[0;34m,\u001b[0m\u001b[0;34m\u001b[0m\u001b[0;34m\u001b[0m\u001b[0m\n",
      "\u001b[0;31mNameError\u001b[0m: name 'index' is not defined"
     ]
    }
   ],
   "source": [
    "trace1 = go.Bar(\n",
    "    x = index,\n",
    "    y = mos,\n",
    "    name='thename',\n",
    "    width=0.5,\n",
    "    marker=dict(color=\"#c45ca2\"),\n",
    "    opacity=1\n",
    ")\n",
    "data1 = [trace1]\n",
    "py.iplot(data1)"
   ]
  },
  {
   "cell_type": "code",
   "execution_count": 5,
   "metadata": {},
   "outputs": [
    {
     "ename": "NameError",
     "evalue": "name 'index' is not defined",
     "output_type": "error",
     "traceback": [
      "\u001b[0;31m---------------------------------------------------------------------------\u001b[0m",
      "\u001b[0;31mNameError\u001b[0m                                 Traceback (most recent call last)",
      "\u001b[0;32m<ipython-input-5-8ada6fa8b810>\u001b[0m in \u001b[0;36m<module>\u001b[0;34m\u001b[0m\n\u001b[1;32m      1\u001b[0m trace2 = go.Pie(\n\u001b[0;32m----> 2\u001b[0;31m     \u001b[0mlabels\u001b[0m\u001b[0;34m=\u001b[0m\u001b[0mindex\u001b[0m\u001b[0;34m,\u001b[0m\u001b[0;34m\u001b[0m\u001b[0;34m\u001b[0m\u001b[0m\n\u001b[0m\u001b[1;32m      3\u001b[0m     \u001b[0mvalues\u001b[0m\u001b[0;34m=\u001b[0m\u001b[0mmos\u001b[0m\u001b[0;34m,\u001b[0m\u001b[0;34m\u001b[0m\u001b[0;34m\u001b[0m\u001b[0m\n\u001b[1;32m      4\u001b[0m     \u001b[0mhoverinfo\u001b[0m\u001b[0;34m=\u001b[0m\u001b[0;34m'label+percent'\u001b[0m\u001b[0;34m,\u001b[0m\u001b[0;34m\u001b[0m\u001b[0;34m\u001b[0m\u001b[0m\n\u001b[1;32m      5\u001b[0m     \u001b[0mtextinfo\u001b[0m\u001b[0;34m=\u001b[0m\u001b[0;34m'value'\u001b[0m\u001b[0;34m,\u001b[0m\u001b[0;34m\u001b[0m\u001b[0;34m\u001b[0m\u001b[0m\n",
      "\u001b[0;31mNameError\u001b[0m: name 'index' is not defined"
     ]
    }
   ],
   "source": [
    "trace2 = go.Pie(\n",
    "    labels=index,            \n",
    "    values=mos,\n",
    "    hoverinfo='label+percent', \n",
    "    textinfo='value', \n",
    "    textfont=dict(size=20),\n",
    "    #marker=dict(colors='#000001', line=dict(color='#000001', width=2)),\n",
    "    hole= .4,\n",
    "    name=\"pie name\",\n",
    "    domain=dict(x = [0, .48]),\n",
    "    opacity=1        \n",
    ")\n",
    "data2 = [trace2]\n",
    "py.iplot(data2)"
   ]
  },
  {
   "cell_type": "code",
   "execution_count": 6,
   "metadata": {},
   "outputs": [
    {
     "ename": "NameError",
     "evalue": "name 'String' is not defined",
     "output_type": "error",
     "traceback": [
      "\u001b[0;31m---------------------------------------------------------------------------\u001b[0m",
      "\u001b[0;31mNameError\u001b[0m                                 Traceback (most recent call last)",
      "\u001b[0;32m<ipython-input-6-39d15c25cf06>\u001b[0m in \u001b[0;36m<module>\u001b[0;34m\u001b[0m\n\u001b[0;32m----> 1\u001b[0;31m \u001b[0mtext\u001b[0m \u001b[0;34m=\u001b[0m \u001b[0;34m' '\u001b[0m\u001b[0;34m.\u001b[0m\u001b[0mjoin\u001b[0m\u001b[0;34m(\u001b[0m\u001b[0mString\u001b[0m\u001b[0;34m(\u001b[0m\u001b[0maudio_train_df\u001b[0m\u001b[0;34m[\u001b[0m\u001b[0;34m'index'\u001b[0m\u001b[0;34m]\u001b[0m\u001b[0;34m)\u001b[0m\u001b[0;34m.\u001b[0m\u001b[0mstr\u001b[0m\u001b[0;34m.\u001b[0m\u001b[0mlower\u001b[0m\u001b[0;34m(\u001b[0m\u001b[0;34m)\u001b[0m\u001b[0;34m.\u001b[0m\u001b[0mvalues\u001b[0m\u001b[0;34m[\u001b[0m\u001b[0;36m1000\u001b[0m\u001b[0;34m:\u001b[0m\u001b[0;34m]\u001b[0m\u001b[0;34m)\u001b[0m\u001b[0;34m\u001b[0m\u001b[0;34m\u001b[0m\u001b[0m\n\u001b[0m\u001b[1;32m      2\u001b[0m wordcloud = WordCloud(max_font_size=None, stopwords=stop, background_color='white',\n\u001b[1;32m      3\u001b[0m                        width=1200, height=1000).generate(audio_train_df)\n\u001b[1;32m      4\u001b[0m \u001b[0mplt\u001b[0m\u001b[0;34m.\u001b[0m\u001b[0mfigure\u001b[0m\u001b[0;34m(\u001b[0m\u001b[0mfigsize\u001b[0m\u001b[0;34m=\u001b[0m\u001b[0;34m(\u001b[0m\u001b[0;36m12\u001b[0m\u001b[0;34m,\u001b[0m \u001b[0;36m8\u001b[0m\u001b[0;34m)\u001b[0m\u001b[0;34m)\u001b[0m\u001b[0;34m\u001b[0m\u001b[0;34m\u001b[0m\u001b[0m\n\u001b[1;32m      5\u001b[0m \u001b[0mplt\u001b[0m\u001b[0;34m.\u001b[0m\u001b[0mimshow\u001b[0m\u001b[0;34m(\u001b[0m\u001b[0mwordcloud\u001b[0m\u001b[0;34m)\u001b[0m\u001b[0;34m\u001b[0m\u001b[0;34m\u001b[0m\u001b[0m\n",
      "\u001b[0;31mNameError\u001b[0m: name 'String' is not defined"
     ]
    }
   ],
   "source": [
    "text = ' '.join(String(audio_train_df['index']).str.lower().values[1000:])\n",
    "wordcloud = WordCloud(max_font_size=None, stopwords=stop, background_color='white',\n",
    "                       width=1200, height=1000).generate(audio_train_df)\n",
    "plt.figure(figsize=(12, 8))\n",
    "plt.imshow(wordcloud)\n",
    "plt.title('Top words in headline')\n",
    "plt.axis(\"off\")\n",
    "plt.show()"
   ]
  },
  {
   "cell_type": "code",
   "execution_count": 7,
   "metadata": {},
   "outputs": [
    {
     "ename": "NameError",
     "evalue": "name 'model' is not defined",
     "output_type": "error",
     "traceback": [
      "\u001b[0;31m---------------------------------------------------------------------------\u001b[0m",
      "\u001b[0;31mNameError\u001b[0m                                 Traceback (most recent call last)",
      "\u001b[0;32m<ipython-input-7-601fe7f7d641>\u001b[0m in \u001b[0;36m<module>\u001b[0;34m\u001b[0m\n\u001b[1;32m      3\u001b[0m     \u001b[0;32mreturn\u001b[0m \u001b[0mcolor\u001b[0m\u001b[0;34m\u001b[0m\u001b[0;34m\u001b[0m\u001b[0m\n\u001b[1;32m      4\u001b[0m \u001b[0;34m\u001b[0m\u001b[0m\n\u001b[0;32m----> 5\u001b[0;31m \u001b[0mdf\u001b[0m \u001b[0;34m=\u001b[0m \u001b[0mpd\u001b[0m\u001b[0;34m.\u001b[0m\u001b[0mDataFrame\u001b[0m\u001b[0;34m(\u001b[0m\u001b[0;34m{\u001b[0m\u001b[0;34m'imp'\u001b[0m\u001b[0;34m:\u001b[0m \u001b[0mmodel\u001b[0m\u001b[0;34m.\u001b[0m\u001b[0mfeature_importance\u001b[0m\u001b[0;34m(\u001b[0m\u001b[0;34m)\u001b[0m\u001b[0;34m,\u001b[0m \u001b[0;34m'col'\u001b[0m\u001b[0;34m:\u001b[0m\u001b[0mfcol\u001b[0m\u001b[0;34m}\u001b[0m\u001b[0;34m)\u001b[0m\u001b[0;34m\u001b[0m\u001b[0;34m\u001b[0m\u001b[0m\n\u001b[0m\u001b[1;32m      6\u001b[0m \u001b[0mdf\u001b[0m \u001b[0;34m=\u001b[0m \u001b[0mdf\u001b[0m\u001b[0;34m.\u001b[0m\u001b[0msort_values\u001b[0m\u001b[0;34m(\u001b[0m\u001b[0;34m[\u001b[0m\u001b[0;34m'imp'\u001b[0m\u001b[0;34m,\u001b[0m\u001b[0;34m'col'\u001b[0m\u001b[0;34m]\u001b[0m\u001b[0;34m,\u001b[0m \u001b[0mascending\u001b[0m\u001b[0;34m=\u001b[0m\u001b[0;34m[\u001b[0m\u001b[0;32mTrue\u001b[0m\u001b[0;34m,\u001b[0m \u001b[0;32mFalse\u001b[0m\u001b[0;34m]\u001b[0m\u001b[0;34m)\u001b[0m\u001b[0;34m\u001b[0m\u001b[0;34m\u001b[0m\u001b[0m\n\u001b[1;32m      7\u001b[0m \u001b[0mdata\u001b[0m \u001b[0;34m=\u001b[0m \u001b[0;34m[\u001b[0m\u001b[0mdf\u001b[0m\u001b[0;34m]\u001b[0m\u001b[0;34m\u001b[0m\u001b[0;34m\u001b[0m\u001b[0m\n",
      "\u001b[0;31mNameError\u001b[0m: name 'model' is not defined"
     ]
    }
   ],
   "source": [
    "def generate_color():\n",
    "    color = '#{:02x}{:02x}{:02x}'.format(*map(lambda x: np.random.randint(0, 255), range(3)))\n",
    "    return color\n",
    "\n",
    "df = pd.DataFrame({'imp': model.feature_importance(), 'col':fcol})\n",
    "df = df.sort_values(['imp','col'], ascending=[True, False])\n",
    "data = [df]\n",
    "for dd in data:  \n",
    "    colors = []\n",
    "    for i in range(len(dd)):\n",
    "         colors.append(generate_color())\n",
    "\n",
    "    data = [\n",
    "        go.Bar(\n",
    "        orientation = 'h',\n",
    "        x=dd.imp,\n",
    "        y=dd.col,\n",
    "        name='Features',\n",
    "        textfont=dict(size=20),\n",
    "            marker=dict(\n",
    "            color= colors,\n",
    "            line=dict(\n",
    "                color='#000000',\n",
    "                width=0.5\n",
    "            ),\n",
    "            opacity = 0.87\n",
    "        )\n",
    "    )\n",
    "    ]\n",
    "    layout= go.Layout(\n",
    "        title= 'Feature Importance of LGB',\n",
    "        xaxis= dict(title='Columns', ticklen=5, zeroline=False, gridwidth=2),\n",
    "        yaxis=dict(title='Value Count', ticklen=5, gridwidth=2),\n",
    "        showlegend=True\n",
    "    )\n",
    "\n",
    "    py.iplot(dict(data=data,layout=layout), filename='horizontal-bar')"
   ]
  },
  {
   "cell_type": "code",
   "execution_count": 8,
   "metadata": {},
   "outputs": [
    {
     "ename": "ValueError",
     "evalue": "cannot reshape array of size 14 into shape (2102,15)",
     "output_type": "error",
     "traceback": [
      "\u001b[0;31m---------------------------------------------------------------------------\u001b[0m",
      "\u001b[0;31mValueError\u001b[0m                                Traceback (most recent call last)",
      "\u001b[0;32m<ipython-input-8-4fad0e525847>\u001b[0m in \u001b[0;36m<module>\u001b[0;34m\u001b[0m\n\u001b[1;32m     36\u001b[0m     \u001b[0;32mreturn\u001b[0m \u001b[0mload_a\u001b[0m\u001b[0;34m\u001b[0m\u001b[0;34m\u001b[0m\u001b[0m\n\u001b[1;32m     37\u001b[0m \u001b[0;31m#list_re = data_Process(audio_train_df)\u001b[0m\u001b[0;34m\u001b[0m\u001b[0;34m\u001b[0m\u001b[0;34m\u001b[0m\u001b[0m\n\u001b[0;32m---> 38\u001b[0;31m \u001b[0mload_ar\u001b[0m \u001b[0;34m=\u001b[0m \u001b[0mnp\u001b[0m\u001b[0;34m.\u001b[0m\u001b[0marray\u001b[0m\u001b[0;34m(\u001b[0m\u001b[0maudio_train_df\u001b[0m\u001b[0;34m)\u001b[0m\u001b[0;34m.\u001b[0m\u001b[0mreshape\u001b[0m\u001b[0;34m(\u001b[0m\u001b[0;36m2102\u001b[0m\u001b[0;34m,\u001b[0m \u001b[0;36m15\u001b[0m\u001b[0;34m)\u001b[0m\u001b[0;34m\u001b[0m\u001b[0;34m\u001b[0m\u001b[0m\n\u001b[0m\u001b[1;32m     39\u001b[0m \u001b[0mload_art\u001b[0m \u001b[0;34m=\u001b[0m \u001b[0mload_ar\u001b[0m\u001b[0;34m.\u001b[0m\u001b[0mT\u001b[0m \u001b[0;31m#将需要进行相关系数计算的数据作为列\u001b[0m\u001b[0;34m\u001b[0m\u001b[0;34m\u001b[0m\u001b[0m\n\u001b[1;32m     40\u001b[0m \u001b[0;34m\u001b[0m\u001b[0m\n",
      "\u001b[0;31mValueError\u001b[0m: cannot reshape array of size 14 into shape (2102,15)"
     ]
    }
   ],
   "source": [
    "def data_Process(df):\n",
    "    for i in range(1454):\n",
    "        j = i + 1\n",
    "        powero = np.array(df.ix[j])\n",
    "        power = powero[:, 1].flatten()\n",
    "        powerf = power\n",
    "        for m in range(35, 608):\n",
    "            power_s = 0\n",
    "            power_35 = []\n",
    "            for n in range(m-35, m):\n",
    "                power_s += power[n]\n",
    "                power_35.append(int(power[n]))\n",
    "            power_35s = sorted(power_35)\n",
    "            power_m = power_s / 35\n",
    "            load_u = power_35s[25]\n",
    "            load_l = power_35s[8]\n",
    "            iqr = load_u - load_l\n",
    "            ud = load_u + 1.5 * iqr\n",
    "            ld = load_l - 1.5 * iqr\n",
    "            for q in range(m - 35, m):\n",
    "                if q < 600:\n",
    "                    if power[q] > ud:\n",
    "                        powerf[q] = (power[q-1] + power[q + 1]) /2\n",
    "                        \n",
    "                    elif power[q] < ld:\n",
    "                        \n",
    "                        powerf[q] = (power[q - 1] + power[q + 1]) / 2\n",
    "                        \n",
    "                else:\n",
    "                    if power[q] > ud:\n",
    "                        powerf[q] = (power[q - 1] + power[q + 1]) /2\n",
    "                       \n",
    "                    elif power[q] < ld:\n",
    "                        powerf[q] = (power[q - 1] + power[q + 1]) / 2\n",
    "        load_a[j] = powerf\n",
    "    return load_a\n",
    "#list_re = data_Process(audio_train_df)\n",
    "load_ar = np.array(audio_train_df).reshape(2102, 15)\n",
    "load_art = load_ar.T #将需要进行相关系数计算的数据作为列\n",
    " \n",
    "index1 = pd.Series(np.arange(1,2103)) #1454列数据进行相关计算\n",
    "index1 = index1.astype(str)\n",
    "index1 = 'A'+index1\n",
    " \n",
    "index2 = pd.Series(np.arange(1,16)) #每个样本609个数据\n",
    "index2 = index2.astype(str)\n",
    "index2 = 'B'+index2\n",
    " \n",
    "#Pearson相关系数计算\n",
    "load_pcp = pd.DataFrame(load_art, index=index2, columns=index1)\n",
    "load_pc = load_pcp.corr()\n",
    "print(load_pc)\n"
   ]
  },
  {
   "cell_type": "code",
   "execution_count": 9,
   "metadata": {
    "scrolled": false
   },
   "outputs": [
    {
     "name": "stdout",
     "output_type": "stream",
     "text": [
      "                burstDensity  burstDuration  gapDensity  gapDuration  \\\n",
      "burstDensity             1.0            1.0         1.0         -1.0   \n",
      "burstDuration            1.0            1.0         1.0         -1.0   \n",
      "gapDensity               1.0            1.0         1.0         -1.0   \n",
      "gapDuration             -1.0           -1.0        -1.0          1.0   \n",
      "discardRate             -1.0           -1.0        -1.0          1.0   \n",
      "endSystemDelay          -1.0           -1.0        -1.0          1.0   \n",
      "Gmin                    -1.0           -1.0        -1.0          1.0   \n",
      "\n",
      "                discardRate  endSystemDelay  Gmin  \n",
      "burstDensity           -1.0            -1.0  -1.0  \n",
      "burstDuration          -1.0            -1.0  -1.0  \n",
      "gapDensity             -1.0            -1.0  -1.0  \n",
      "gapDuration             1.0             1.0   1.0  \n",
      "discardRate             1.0             1.0   1.0  \n",
      "endSystemDelay          1.0             1.0   1.0  \n",
      "Gmin                    1.0             1.0   1.0  \n"
     ]
    }
   ],
   "source": [
    "#print(audio_train_df.values.tolist())\n",
    "unstrtf_lst = audio_train_df.values.tolist()\n",
    "column_lst = ['burstDensity', 'burstDuration', 'gapDensity', 'gapDuration', 'discardRate', 'endSystemDelay', 'Gmin', 'JBnominal', 'lossRate', 'signalLevel', 'noiseLevel', 'RERL', 'roundTripDelay', 'Rfactor', 'MOSLQ']\n",
    " # 计算列表两两间的相关系数\n",
    "data_dict = {} # 创建数据字典，为生成Dataframe做准备\n",
    "for col, gf_lst in zip(column_lst, unstrtf_lst):\n",
    "    data_dict[col] = gf_lst\n",
    "unstrtf_df = pd.DataFrame(data_dict)\n",
    "cor1 = unstrtf_df.corr() # 计算相关系数，得到一个矩阵\n",
    "print(cor1)\n",
    "                            "
   ]
  },
  {
   "cell_type": "code",
   "execution_count": null,
   "metadata": {},
   "outputs": [],
   "source": []
  },
  {
   "cell_type": "code",
   "execution_count": null,
   "metadata": {},
   "outputs": [],
   "source": [
    "audio_result = pd.read_csv(\"/tmp/6.csv\")"
   ]
  }
 ],
 "metadata": {
  "kernelspec": {
   "display_name": "Python 3",
   "language": "python",
   "name": "python3"
  },
  "language_info": {
   "codemirror_mode": {
    "name": "ipython",
    "version": 3
   },
   "file_extension": ".py",
   "mimetype": "text/x-python",
   "name": "python",
   "nbconvert_exporter": "python",
   "pygments_lexer": "ipython3",
   "version": "3.7.3"
  }
 },
 "nbformat": 4,
 "nbformat_minor": 2
}
